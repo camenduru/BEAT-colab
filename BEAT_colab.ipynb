{
  "cells": [
    {
      "cell_type": "markdown",
      "metadata": {
        "id": "view-in-github"
      },
      "source": [
        "[![Open In Colab](https://colab.research.google.com/assets/colab-badge.svg)](https://colab.research.google.com/github/camenduru/BEAT-colab/blob/main/BEAT_colab.ipynb)"
      ]
    },
    {
      "cell_type": "code",
      "execution_count": null,
      "metadata": {
        "id": "VjYy0F2gZIPR"
      },
      "outputs": [],
      "source": [
        "%cd /content\n",
        "!git clone -b dev https://github.com/camenduru/BEAT\n",
        "%cd /content/BEAT\n",
        "\n",
        "!mkdir -p /content/datasets/beat_cache\n",
        "!wget https://huggingface.co/camenduru/BEAT/resolve/main/beat_4english_15_141.zip -O /content/datasets/beat_cache/beat_4english_15_141.zip\n",
        "%cd /content/datasets/beat_cache\n",
        "!unzip beat_4english_15_141.zip\n",
        "!pip install -q loguru wandb configargparse lmdb fasttext textgrid\n",
        "\n",
        "# !pip install -q nnAudio sklearn tensorboard-plugin-wit testpath\n",
        "# !pip install -q timm yacs yarg kornia configargparse"
      ]
    },
    {
      "cell_type": "code",
      "execution_count": null,
      "metadata": {},
      "outputs": [],
      "source": [
        "%cd /content/BEAT/scripts/BEAT_2022\n",
        "!python test.py -c /content/BEAT/scripts/BEAT_2022/configs/camn_beat_4english_15_141.yaml --new_cache False"
      ]
    }
  ],
  "metadata": {
    "accelerator": "GPU",
    "colab": {
      "gpuType": "T4",
      "provenance": []
    },
    "kernelspec": {
      "display_name": "Python 3",
      "name": "python3"
    },
    "language_info": {
      "name": "python"
    }
  },
  "nbformat": 4,
  "nbformat_minor": 0
}
